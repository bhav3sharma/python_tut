{
 "cells": [
  {
   "cell_type": "code",
   "execution_count": 2,
   "metadata": {},
   "outputs": [],
   "source": [
    "import re\n",
    "import string"
   ]
  },
  {
   "cell_type": "markdown",
   "metadata": {},
   "source": [
    "# What is regex?:\n",
    "\n",
    "\n",
    "# Factoids:\n",
    "`* --> Kleene Star (Mathematician who came up with the concept of regex)`\n",
    "\n",
    "\n",
    "`* in terminal does globbing not grepping`\n",
    "\n"
   ]
  },
  {
   "cell_type": "markdown",
   "metadata": {},
   "source": [
    "# Why is it needed?\n",
    "\n",
    "`Some people anonymously asked many times why its needed`\n",
    "Uses of regex:\n",
    "\n",
    "1. Used in SQL\n",
    "2. Used in python (Beautiful soup)\n",
    "3. Used in datadog to filter logs\n",
    "4. AWS constantly uses regex or regex like patterns for their logs and parameters"
   ]
  },
  {
   "cell_type": "markdown",
   "metadata": {},
   "source": [
    "# Functions you need\n",
    "`re.compile` -- **Compiles a regex pattern**\n",
    "\n",
    "\n",
    "`re.sub`-`re.subn` -- **substitutes your regex pattern in the given text (subn returns number of substitutions made)**\n",
    "\n",
    "\n",
    "`re.match` -- **matches only at the beginning of the string (imagine like r'^.....' as your pattern when using this)**\n",
    "\n",
    "\n",
    "`re.search` -- **searches ANYWHERE in the string and returns a match object**\n",
    "\n",
    "\n",
    "`re.findall` -- **returns a list of all matches in the string as a list**\n",
    "\n",
    "\n",
    "`re.split`\n"
   ]
  },
  {
   "cell_type": "code",
   "execution_count": 3,
   "metadata": {},
   "outputs": [],
   "source": [
    "pattern = re.compile(r'.*')"
   ]
  },
  {
   "cell_type": "code",
   "execution_count": 14,
   "metadata": {},
   "outputs": [
    {
     "data": {
      "text/plain": [
       "re.compile(r'a|b|c|d|e', re.UNICODE)"
      ]
     },
     "execution_count": 14,
     "metadata": {},
     "output_type": "execute_result"
    }
   ],
   "source": [
    "re.compile('|'.join(['a','b','c','d','e']))"
   ]
  },
  {
   "cell_type": "markdown",
   "metadata": {},
   "source": [
    "# Anchors:\n",
    "`^` match beginning of the string\n",
    "\n",
    "\n",
    "\n",
    "`$` match end of the string"
   ]
  },
  {
   "cell_type": "markdown",
   "metadata": {},
   "source": [
    "`^` --> use it at the beginning of your pattern\n",
    "\n",
    "\n",
    "`$` --> use it at the end of your pattern"
   ]
  },
  {
   "cell_type": "markdown",
   "metadata": {},
   "source": [
    "# Metacharacters\n",
    "\n",
    "`.\n",
    "+\n",
    "*\n",
    "?\n",
    "\\\n",
    "(\n",
    ")\n",
    "[\n",
    "]\n",
    "|\n",
    "^\n",
    "$\n",
    "`"
   ]
  },
  {
   "cell_type": "markdown",
   "metadata": {},
   "source": [
    "# Special characters\n",
    "\n",
    "`\n",
    "\\n --> newline\n",
    "\\b --> word boundary\n",
    "\\B --> not a word boundary\n",
    "\\d --> digit (same as [0-9])\n",
    "\\D --> Not a digit\n",
    "\\w --> word character (any example string like \"Chad\" , \"Dom\"\n",
    "\\W --> not a word character (!,@ etc)\n",
    "`"
   ]
  },
  {
   "cell_type": "code",
   "execution_count": 15,
   "metadata": {},
   "outputs": [],
   "source": [
    "words = 'par spar apparent spare part'"
   ]
  },
  {
   "cell_type": "code",
   "execution_count": 17,
   "metadata": {},
   "outputs": [
    {
     "data": {
      "text/plain": [
       "'par sX apXent sXe part'"
      ]
     },
     "execution_count": 17,
     "metadata": {},
     "output_type": "execute_result"
    }
   ],
   "source": [
    "# replace 'par' if it is not start of word\n",
    "re.sub(r'\\Bpar', 'X', words)"
   ]
  },
  {
   "cell_type": "code",
   "execution_count": 19,
   "metadata": {},
   "outputs": [
    {
     "data": {
      "text/plain": [
       "'X spar apparent spare Xt'"
      ]
     },
     "execution_count": 19,
     "metadata": {},
     "output_type": "execute_result"
    }
   ],
   "source": [
    "# replace 'par' if is not start of word\n",
    "re.sub(r'\\bpar', 'X', words)"
   ]
  },
  {
   "cell_type": "code",
   "execution_count": 18,
   "metadata": {},
   "outputs": [
    {
     "data": {
      "text/plain": [
       "'X sX apparent spare part'"
      ]
     },
     "execution_count": 18,
     "metadata": {},
     "output_type": "execute_result"
    }
   ],
   "source": [
    "# replace 'par' if is not start of word\n",
    "re.sub(r'par\\b', 'X', words)"
   ]
  },
  {
   "cell_type": "code",
   "execution_count": 11,
   "metadata": {},
   "outputs": [
    {
     "data": {
      "text/plain": [
       "'par sXr apXrent sXre part'"
      ]
     },
     "execution_count": 11,
     "metadata": {},
     "output_type": "execute_result"
    }
   ],
   "source": [
    "# replace 'par' at end of word but not whole word 'par'\n",
    "re.sub(r'\\Bpa', 'X', words)"
   ]
  },
  {
   "cell_type": "code",
   "execution_count": 12,
   "metadata": {},
   "outputs": [
    {
     "data": {
      "text/plain": [
       "'par spar apXent sXe Xt'"
      ]
     },
     "execution_count": 12,
     "metadata": {},
     "output_type": "execute_result"
    }
   ],
   "source": [
    "# replace 'par' if it is not end of word\n",
    "re.sub(r'par\\B', 'X', words)"
   ]
  },
  {
   "cell_type": "code",
   "execution_count": 13,
   "metadata": {},
   "outputs": [
    {
     "data": {
      "text/plain": [
       "'par spar apXent sXe part'"
      ]
     },
     "execution_count": 13,
     "metadata": {},
     "output_type": "execute_result"
    }
   ],
   "source": [
    "# replace 'par' if it is surrounded by word characters\n",
    "re.sub(r'\\Bpar\\B', 'X', words)"
   ]
  },
  {
   "cell_type": "code",
   "execution_count": 23,
   "metadata": {},
   "outputs": [
    {
     "data": {
      "text/plain": [
       "':copper:'"
      ]
     },
     "execution_count": 23,
     "metadata": {},
     "output_type": "execute_result"
    }
   ],
   "source": [
    "re.sub(r'\\b', ':', 'copper')"
   ]
  },
  {
   "cell_type": "code",
   "execution_count": 16,
   "metadata": {},
   "outputs": [
    {
     "data": {
      "text/plain": [
       "'c:o:p:p:e:r'"
      ]
     },
     "execution_count": 16,
     "metadata": {},
     "output_type": "execute_result"
    }
   ],
   "source": [
    "re.sub(r'\\B', ':', 'copper')"
   ]
  },
  {
   "cell_type": "code",
   "execution_count": 20,
   "metadata": {},
   "outputs": [
    {
     "data": {
      "text/plain": [
       "'----- hello -----'"
      ]
     },
     "execution_count": 20,
     "metadata": {},
     "output_type": "execute_result"
    }
   ],
   "source": [
    "re.sub(r'\\b', ' ', '-----hello-----')"
   ]
  },
  {
   "cell_type": "code",
   "execution_count": 21,
   "metadata": {},
   "outputs": [
    {
     "data": {
      "text/plain": [
       "' - - - - -h e l l o- - - - - '"
      ]
     },
     "execution_count": 21,
     "metadata": {},
     "output_type": "execute_result"
    }
   ],
   "source": [
    "re.sub(r'\\B', ' ', '-----hello-----')"
   ]
  },
  {
   "cell_type": "code",
   "execution_count": 25,
   "metadata": {},
   "outputs": [
    {
     "data": {
      "text/plain": [
       "<re.Match object; span=(0, 3), match='Dom'>"
      ]
     },
     "execution_count": 25,
     "metadata": {},
     "output_type": "execute_result"
    }
   ],
   "source": [
    "re.match('Dom','Dom, cath, Bhavesh')"
   ]
  },
  {
   "cell_type": "code",
   "execution_count": 27,
   "metadata": {},
   "outputs": [
    {
     "data": {
      "text/plain": [
       "NoneType"
      ]
     },
     "execution_count": 27,
     "metadata": {},
     "output_type": "execute_result"
    }
   ],
   "source": [
    "re.match('cath','Dom, cath, Bhavesh')"
   ]
  },
  {
   "cell_type": "code",
   "execution_count": 107,
   "metadata": {},
   "outputs": [
    {
     "data": {
      "text/plain": [
       "<re.Match object; span=(5, 9), match='cath'>"
      ]
     },
     "execution_count": 107,
     "metadata": {},
     "output_type": "execute_result"
    }
   ],
   "source": [
    "re.search('cath','Dom, cath, Bhavesh')"
   ]
  },
  {
   "cell_type": "markdown",
   "metadata": {},
   "source": [
    "# Alternation (Like or condition while matching)\n",
    "\n",
    "`|` $\\qquad$ (pipe is used for or, when matching)"
   ]
  },
  {
   "cell_type": "code",
   "execution_count": 25,
   "metadata": {},
   "outputs": [
    {
     "name": "stdout",
     "output_type": "stream",
     "text": [
      "True\n",
      "True\n",
      "False\n"
     ]
    }
   ],
   "source": [
    "# match either 'cat' or 'dog'\n",
    "print(bool(re.search(r'cat|dog', 'I like cats')))\n",
    "\n",
    "print(bool(re.search(r'cat|dog', 'I like dogs')))\n",
    "\n",
    "print(bool(re.search(r'cat|dog', 'I like parrots')))\n"
   ]
  },
  {
   "cell_type": "code",
   "execution_count": 29,
   "metadata": {},
   "outputs": [
    {
     "name": "stdout",
     "output_type": "stream",
     "text": [
      "catapults concatenate cat scat\n"
     ]
    },
    {
     "data": {
      "text/plain": [
       "'Xapults concatenate X sX'"
      ]
     },
     "execution_count": 29,
     "metadata": {},
     "output_type": "execute_result"
    }
   ],
   "source": [
    "# replace either 'cat' at start of string or 'cat' at end of word\n",
    "print('catapults concatenate cat scat')\n",
    "re.sub(r'\\Acat|cat\\b', 'X', 'catapults concatenate cat scat')"
   ]
  },
  {
   "cell_type": "code",
   "execution_count": 28,
   "metadata": {},
   "outputs": [
    {
     "name": "stdout",
     "output_type": "stream",
     "text": [
      "cat dog bee parrot fox\n"
     ]
    },
    {
     "data": {
      "text/plain": [
       "'mammal mammal bee parrot mammal'"
      ]
     },
     "execution_count": 28,
     "metadata": {},
     "output_type": "execute_result"
    }
   ],
   "source": [
    "# replace either 'cat' or 'dog' or 'fox' with 'mammal'\n",
    "print('cat dog bee parrot fox')\n",
    "re.sub(r'cat|dog|fox', 'mammal', 'cat dog bee parrot fox')"
   ]
  },
  {
   "cell_type": "markdown",
   "metadata": {},
   "source": [
    "A good way to think about regex is like a seive\n",
    "\n",
    "\n",
    "And the whole string goes through it\n",
    "\n",
    "\n",
    "The pattern you create is left behind \n",
    "\n",
    "\n",
    "It kinda ingests the whole string, and then replaces/captures what is needed whatever is needed\n",
    "\n",
    "But the string goes on a first come first served basis"
   ]
  },
  {
   "cell_type": "code",
   "execution_count": 31,
   "metadata": {},
   "outputs": [
    {
     "name": "stdout",
     "output_type": "stream",
     "text": [
      "lion elephant are rope not\n",
      "liX elephant are rope not\n",
      "liX elephant are rope not\n"
     ]
    }
   ],
   "source": [
    "#starting index of 'on' < index of 'ant' for given string input\n",
    "#so 'on' will be replaced irrespective of order\n",
    "#count optional argument here restricts no. of replacements to 1\n",
    "words = 'lion elephant are rope not'\n",
    "print(words)\n",
    "print(re.sub(r'on|ant', 'X', words, count=1))\n",
    "\n",
    "print(re.sub(r'ant|on', 'X', words, count=1))\n"
   ]
  },
  {
   "cell_type": "code",
   "execution_count": 32,
   "metadata": {},
   "outputs": [
    {
     "name": "stdout",
     "output_type": "stream",
     "text": [
      "best years\n",
      "best Xs\n",
      "best X\n"
     ]
    }
   ],
   "source": [
    "#starting index for 'year' and 'years' will always be same\n",
    "#so, which one gets replaced depends on the order of alternation\n",
    "mood = 'best years'\n",
    "print(mood)\n",
    "\n",
    "print(re.sub(r'year|years', 'X', mood, count=1))\n",
    "\n",
    "print(re.sub(r'years|year', 'X', mood, count=1))\n"
   ]
  },
  {
   "cell_type": "markdown",
   "metadata": {},
   "source": [
    "# Greedy matches"
   ]
  },
  {
   "cell_type": "markdown",
   "metadata": {},
   "source": [
    "`?` 0,1\n",
    "\n",
    "`*` 0,inf\n",
    "\n",
    "`+` 1,inf\n",
    "\n",
    "`.` any character except \\n\n",
    "\n",
    "All of these are greedy quantifiers"
   ]
  },
  {
   "cell_type": "markdown",
   "metadata": {},
   "source": [
    "What is greedy?\n",
    "\n",
    "\n",
    "It means it will try to find maximum amount of matches for that character"
   ]
  },
  {
   "cell_type": "code",
   "execution_count": 68,
   "metadata": {},
   "outputs": [
    {
     "data": {
      "text/plain": [
       "'Xt is quite a fabricated tale'"
      ]
     },
     "execution_count": 68,
     "metadata": {},
     "output_type": "execute_result"
    }
   ],
   "source": [
    "sentence = 'that is quite a fabricated tale'\n",
    "\n",
    "# r't.*?a' will always match from first 't' to first 'a'\n",
    "re.sub(r't.*?a', 'X', sentence, count=1)"
   ]
  },
  {
   "cell_type": "code",
   "execution_count": 69,
   "metadata": {},
   "outputs": [
    {
     "data": {
      "text/plain": [
       "'Xabricated tale'"
      ]
     },
     "execution_count": 69,
     "metadata": {},
     "output_type": "execute_result"
    }
   ],
   "source": [
    "# matching first 't' to first 'a' for t.*?a won't work for this case\n",
    "# so, engine will move forward until .*?f matches and so on\n",
    "re.sub(r't.*?a.*?f', 'X', sentence, count=1)"
   ]
  },
  {
   "cell_type": "markdown",
   "metadata": {},
   "source": [
    "# Quantifiers\n",
    "- Specify how much you want to match\n",
    "- {m,n} find atleast m matches and at most n matches"
   ]
  },
  {
   "cell_type": "markdown",
   "metadata": {},
   "source": [
    "- ? = {0,1}\n",
    "- \\* = {0,}\n",
    "- \\+ = {1,}"
   ]
  },
  {
   "cell_type": "code",
   "execution_count": 78,
   "metadata": {},
   "outputs": [
    {
     "name": "stdout",
     "output_type": "stream",
     "text": [
      "axxc\n",
      "axbbbc\n"
     ]
    }
   ],
   "source": [
    "s = 'abbbbbbbbbc'\n",
    "print(re.sub(r'b{3,5}','x', s))\n",
    "print(re.sub(r'b{5,6}','x', s))"
   ]
  },
  {
   "cell_type": "markdown",
   "metadata": {},
   "source": [
    "#### Cheatsheet"
   ]
  },
  {
   "cell_type": "markdown",
   "metadata": {},
   "source": [
    "https://learnbyexample.github.io/py_regular_expressions/dot-metacharacter-and-quantifiers.html"
   ]
  },
  {
   "cell_type": "markdown",
   "metadata": {},
   "source": [
    "# Character Sets"
   ]
  },
  {
   "cell_type": "markdown",
   "metadata": {},
   "source": [
    "### [ ] --> is a character set\n",
    "\n",
    "Character sets can be used to specify ranges of things you want to match"
   ]
  },
  {
   "cell_type": "markdown",
   "metadata": {},
   "source": [
    "[0-9] = \\d\n",
    "\n",
    "[a-zA-Z] = \\w\n",
    "\n",
    "[!@#$%&*]"
   ]
  },
  {
   "cell_type": "markdown",
   "metadata": {},
   "source": [
    "# \\'\\!\\|\\@\\|\\#\\|%\\|\\&\\|\\*\\' = \\[!@#\\$\\%\\&\\*\\]"
   ]
  },
  {
   "cell_type": "code",
   "execution_count": 113,
   "metadata": {},
   "outputs": [
    {
     "name": "stdout",
     "output_type": "stream",
     "text": [
      "<re.Match object; span=(5, 9), match='abca'>\n",
      "None\n"
     ]
    }
   ],
   "source": [
    "s = 'defghabcad'\n",
    "print(re.search(r'[abc]{4,}',s))\n",
    "\n",
    "print(re.search(r'[abc]{5,}',s))"
   ]
  },
  {
   "cell_type": "markdown",
   "metadata": {},
   "source": [
    "# Grouping \n"
   ]
  },
  {
   "cell_type": "markdown",
   "metadata": {},
   "source": [
    "- () --> creates a group\n",
    "- Anything inside the group is captured, anything outside is discarded\n",
    "- without anything special its a capture group, helps you avoid extra string associate with it\n",
    "- (?:) is a non capturing group, "
   ]
  },
  {
   "cell_type": "code",
   "execution_count": 108,
   "metadata": {},
   "outputs": [],
   "source": [
    "complicated_dict = \"\"\"{'asdaasd':'Cath':'Dom'}\n",
    "{'asdaasd':'Cath':'IDK'}\n",
    "{'asdaasd':'Cath':'Alistair'}\n",
    "{'asdaasd':'Cath':'Bhavesh'}\"\"\""
   ]
  },
  {
   "cell_type": "code",
   "execution_count": 111,
   "metadata": {},
   "outputs": [
    {
     "data": {
      "text/plain": [
       "['Dom', 'IDK', 'Alistair', 'Bhavesh']"
      ]
     },
     "execution_count": 111,
     "metadata": {},
     "output_type": "execute_result"
    }
   ],
   "source": [
    "re.findall(r\"Cath':'(\\w+)'\",complicated_dict)"
   ]
  },
  {
   "cell_type": "code",
   "execution_count": 112,
   "metadata": {},
   "outputs": [
    {
     "data": {
      "text/plain": [
       "['Dom', 'IDK', 'Alistair', 'Bhavesh']"
      ]
     },
     "execution_count": 112,
     "metadata": {},
     "output_type": "execute_result"
    }
   ],
   "source": [
    "re.findall(r\"Cath':'([a-zA-Z]+)'\",complicated_dict)"
   ]
  }
 ],
 "metadata": {
  "kernelspec": {
   "display_name": "Python 3 (ipykernel)",
   "language": "python",
   "name": "python3"
  },
  "language_info": {
   "codemirror_mode": {
    "name": "ipython",
    "version": 3
   },
   "file_extension": ".py",
   "mimetype": "text/x-python",
   "name": "python",
   "nbconvert_exporter": "python",
   "pygments_lexer": "ipython3",
   "version": "3.9.12"
  }
 },
 "nbformat": 4,
 "nbformat_minor": 4
}
